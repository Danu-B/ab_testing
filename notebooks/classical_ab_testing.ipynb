{
 "cells": [
  {
   "cell_type": "code",
   "execution_count": 1,
   "metadata": {},
   "outputs": [],
   "source": [
    "import pandas as pd\n",
    "import numpy as np\n",
    "\n",
    "import scipy.stats as stats\n",
    "import statsmodels.api as sm\n",
    "from statsmodels.stats.proportion import proportions_ztest\n",
    "import scipy.stats as scs\n",
    "import seaborn as sns\n",
    "import matplotlib.pyplot as plt\n",
    "from matplotlib.lines import Line2D\n",
    "%matplotlib inline"
   ]
  },
  {
   "cell_type": "code",
   "execution_count": 2,
   "metadata": {},
   "outputs": [
    {
     "data": {
      "text/html": [
       "<div>\n",
       "<style scoped>\n",
       "    .dataframe tbody tr th:only-of-type {\n",
       "        vertical-align: middle;\n",
       "    }\n",
       "\n",
       "    .dataframe tbody tr th {\n",
       "        vertical-align: top;\n",
       "    }\n",
       "\n",
       "    .dataframe thead th {\n",
       "        text-align: right;\n",
       "    }\n",
       "</style>\n",
       "<table border=\"1\" class=\"dataframe\">\n",
       "  <thead>\n",
       "    <tr style=\"text-align: right;\">\n",
       "      <th></th>\n",
       "      <th>auction_id</th>\n",
       "      <th>experiment</th>\n",
       "      <th>date</th>\n",
       "      <th>hour</th>\n",
       "      <th>device_make</th>\n",
       "      <th>platform_os</th>\n",
       "      <th>browser</th>\n",
       "      <th>yes</th>\n",
       "      <th>no</th>\n",
       "    </tr>\n",
       "  </thead>\n",
       "  <tbody>\n",
       "    <tr>\n",
       "      <th>0</th>\n",
       "      <td>0008ef63-77a7-448b-bd1e-075f42c55e39</td>\n",
       "      <td>exposed</td>\n",
       "      <td>2020-07-10</td>\n",
       "      <td>8</td>\n",
       "      <td>Generic Smartphone</td>\n",
       "      <td>6</td>\n",
       "      <td>Chrome Mobile</td>\n",
       "      <td>0</td>\n",
       "      <td>0</td>\n",
       "    </tr>\n",
       "    <tr>\n",
       "      <th>1</th>\n",
       "      <td>000eabc5-17ce-4137-8efe-44734d914446</td>\n",
       "      <td>exposed</td>\n",
       "      <td>2020-07-07</td>\n",
       "      <td>10</td>\n",
       "      <td>Generic Smartphone</td>\n",
       "      <td>6</td>\n",
       "      <td>Chrome Mobile</td>\n",
       "      <td>0</td>\n",
       "      <td>0</td>\n",
       "    </tr>\n",
       "    <tr>\n",
       "      <th>2</th>\n",
       "      <td>0016d14a-ae18-4a02-a204-6ba53b52f2ed</td>\n",
       "      <td>exposed</td>\n",
       "      <td>2020-07-05</td>\n",
       "      <td>2</td>\n",
       "      <td>E5823</td>\n",
       "      <td>6</td>\n",
       "      <td>Chrome Mobile WebView</td>\n",
       "      <td>0</td>\n",
       "      <td>1</td>\n",
       "    </tr>\n",
       "    <tr>\n",
       "      <th>3</th>\n",
       "      <td>00187412-2932-4542-a8ef-3633901c98d9</td>\n",
       "      <td>control</td>\n",
       "      <td>2020-07-03</td>\n",
       "      <td>15</td>\n",
       "      <td>Samsung SM-A705FN</td>\n",
       "      <td>6</td>\n",
       "      <td>Facebook</td>\n",
       "      <td>0</td>\n",
       "      <td>0</td>\n",
       "    </tr>\n",
       "    <tr>\n",
       "      <th>4</th>\n",
       "      <td>001a7785-d3fe-4e11-a344-c8735acacc2c</td>\n",
       "      <td>control</td>\n",
       "      <td>2020-07-03</td>\n",
       "      <td>15</td>\n",
       "      <td>Generic Smartphone</td>\n",
       "      <td>6</td>\n",
       "      <td>Chrome Mobile</td>\n",
       "      <td>0</td>\n",
       "      <td>0</td>\n",
       "    </tr>\n",
       "  </tbody>\n",
       "</table>\n",
       "</div>"
      ],
      "text/plain": [
       "                             auction_id experiment        date  hour  \\\n",
       "0  0008ef63-77a7-448b-bd1e-075f42c55e39    exposed  2020-07-10     8   \n",
       "1  000eabc5-17ce-4137-8efe-44734d914446    exposed  2020-07-07    10   \n",
       "2  0016d14a-ae18-4a02-a204-6ba53b52f2ed    exposed  2020-07-05     2   \n",
       "3  00187412-2932-4542-a8ef-3633901c98d9    control  2020-07-03    15   \n",
       "4  001a7785-d3fe-4e11-a344-c8735acacc2c    control  2020-07-03    15   \n",
       "\n",
       "          device_make  platform_os                browser  yes  no  \n",
       "0  Generic Smartphone            6          Chrome Mobile    0   0  \n",
       "1  Generic Smartphone            6          Chrome Mobile    0   0  \n",
       "2               E5823            6  Chrome Mobile WebView    0   1  \n",
       "3   Samsung SM-A705FN            6               Facebook    0   0  \n",
       "4  Generic Smartphone            6          Chrome Mobile    0   0  "
      ]
     },
     "execution_count": 2,
     "metadata": {},
     "output_type": "execute_result"
    }
   ],
   "source": [
    "df = pd.read_csv('../data/AdSmartABdata.csv')\n",
    "df.head()"
   ]
  },
  {
   "cell_type": "code",
   "execution_count": 3,
   "metadata": {},
   "outputs": [
    {
     "name": "stdout",
     "output_type": "stream",
     "text": [
      "<class 'pandas.core.frame.DataFrame'>\n",
      "RangeIndex: 8077 entries, 0 to 8076\n",
      "Data columns (total 9 columns):\n",
      " #   Column       Non-Null Count  Dtype \n",
      "---  ------       --------------  ----- \n",
      " 0   auction_id   8077 non-null   object\n",
      " 1   experiment   8077 non-null   object\n",
      " 2   date         8077 non-null   object\n",
      " 3   hour         8077 non-null   int64 \n",
      " 4   device_make  8077 non-null   object\n",
      " 5   platform_os  8077 non-null   int64 \n",
      " 6   browser      8077 non-null   object\n",
      " 7   yes          8077 non-null   int64 \n",
      " 8   no           8077 non-null   int64 \n",
      "dtypes: int64(4), object(5)\n",
      "memory usage: 568.0+ KB\n"
     ]
    }
   ],
   "source": [
    "df.info()"
   ]
  },
  {
   "cell_type": "markdown",
   "metadata": {},
   "source": [
    "<h1>Checking for Duplicates and Nulls</h1>"
   ]
  },
  {
   "cell_type": "code",
   "execution_count": 4,
   "metadata": {},
   "outputs": [
    {
     "name": "stdout",
     "output_type": "stream",
     "text": [
      "There are no duplicates\n",
      "There are no null values\n"
     ]
    }
   ],
   "source": [
    "def checkForDuplicates(df):\n",
    "    if df.iloc[: ,0].nunique() == df.shape[0]:\n",
    "        print('There are no duplicates')\n",
    "    else:\n",
    "        print('There are some duplicates')\n",
    "\n",
    "    if df.isnull().sum().sum() == 0:\n",
    "        print('There are no null values')\n",
    "    else:\n",
    "        print('There are some null values')\n",
    "\n",
    "checkForDuplicates(df)"
   ]
  },
  {
   "cell_type": "markdown",
   "metadata": {},
   "source": [
    "### Control and Exposed Groups"
   ]
  },
  {
   "cell_type": "code",
   "execution_count": 5,
   "metadata": {},
   "outputs": [
    {
     "data": {
      "text/plain": [
       "(4071, 4006)"
      ]
     },
     "execution_count": 5,
     "metadata": {},
     "output_type": "execute_result"
    }
   ],
   "source": [
    "def num_of_control_and_exposed(df):\n",
    "    contorl_num = df.groupby('experiment').agg({'auction_id': 'count'})['auction_id']['control']\n",
    "    exposed_num  = df.groupby('experiment').agg({'auction_id': 'count'})['auction_id']['exposed']\n",
    "    return contorl_num, exposed_num\n",
    "\n",
    "num_of_control_and_exposed(df)\n",
    "\n"
   ]
  },
  {
   "cell_type": "markdown",
   "metadata": {},
   "source": [
    "## Aggregate of the data in the control and exposed groups"
   ]
  },
  {
   "cell_type": "code",
   "execution_count": 6,
   "metadata": {},
   "outputs": [],
   "source": [
    "def aggregate_data(df):\n",
    "    reduced_df = df[['auction_id', 'experiment', 'yes', 'no']]\n",
    "    reduced_df = reduced_df.query(\"not (yes == 0 & no == 0)\")\n",
    "\n",
    "    reduced_df_agg = reduced_df.groupby(\"experiment\").agg({\"yes\": \"sum\", \"no\":\"sum\"})\n",
    "    reduced_df_agg['aware'] = [0,0]\n",
    "    reduced_df_agg['aware']['control'] = reduced_df_agg['yes']['control']\n",
    "    reduced_df_agg['aware']['exposed'] = reduced_df_agg['yes']['exposed']\n",
    "\n",
    "    reduced_df_agg['total'] = [0, 0]\n",
    "    reduced_df_agg['total']['control'] = reduced_df_agg['yes']['control'] +  reduced_df_agg['no']['control']\n",
    "    reduced_df_agg['total']['exposed'] = reduced_df_agg['yes']['exposed'] + reduced_df_agg['no']['exposed']\n",
    "\n",
    "    print(f\"control group: {reduced_df_agg['aware']['control']}\")\n",
    "    print(f\"exposed group: {reduced_df_agg['aware']['exposed']}\")\n",
    "\n",
    "    return reduced_df_agg\n",
    "   "
   ]
  },
  {
   "cell_type": "code",
   "execution_count": 7,
   "metadata": {},
   "outputs": [
    {
     "name": "stdout",
     "output_type": "stream",
     "text": [
      "control group: 264\n",
      "exposed group: 308\n",
      " The conversion rate of control group is 0.45\n",
      " The conversion rate of exposed group is 0.47\n"
     ]
    }
   ],
   "source": [
    "test_df = aggregate_data(df).copy()\n",
    "control_conversion_rate = test_df['aware']['control'] / test_df['total']['control']\n",
    "exposed_conversion_rate = test_df['aware']['exposed'] / test_df['total']['exposed']\n",
    "\n",
    "print(f\" The conversion rate of control group is {control_conversion_rate:0.2f}\")\n",
    "print(f\" The conversion rate of exposed group is {exposed_conversion_rate:0.2f}\")"
   ]
  },
  {
   "cell_type": "code",
   "execution_count": 10,
   "metadata": {},
   "outputs": [],
   "source": [
    "diff = exposed_conversion_rate - control_conversion_rate\n",
    "\n",
    "variance_contorl = control_conversion_rate * (1 - control_conversion_rate)\n",
    "variance_exposed = exposed_conversion_rate * (1 - exposed_conversion_rate)"
   ]
  },
  {
   "cell_type": "markdown",
   "metadata": {},
   "source": [
    "### calculating the standard error"
   ]
  },
  {
   "cell_type": "code",
   "execution_count": 11,
   "metadata": {},
   "outputs": [
    {
     "name": "stdout",
     "output_type": "stream",
     "text": [
      "control group: 264\n",
      "exposed group: 308\n"
     ]
    }
   ],
   "source": [
    "df_aggr = aggregate_data(df)\n",
    "contorl_total = df_aggr['total']['control']\n",
    "exposed_total = df_aggr['total']['exposed']\n",
    "\n",
    "standar_err_control = np.sqrt(variance_contorl)/np.sqrt(contorl_total)\n",
    "standar_err_exposed = np.sqrt(variance_exposed)/np.sqrt(exposed_total)"
   ]
  },
  {
   "cell_type": "code",
   "execution_count": 12,
   "metadata": {},
   "outputs": [],
   "source": [
    "shift  = (exposed_conversion_rate - control_conversion_rate) / control_conversion_rate\n"
   ]
  },
  {
   "cell_type": "code",
   "execution_count": 13,
   "metadata": {},
   "outputs": [
    {
     "data": {
      "text/plain": [
       "<matplotlib.legend.Legend at 0x2c0474f2710>"
      ]
     },
     "execution_count": 13,
     "metadata": {},
     "output_type": "execute_result"
    },
    {
     "data": {
      "image/png": "[encoded data removed]",
      "text/plain": [
       "<Figure size 1080x504 with 1 Axes>"
      ]
     },
     "metadata": {
      "needs_background": "light"
     },
     "output_type": "display_data"
    }
   ],
   "source": [
    "fig, ax = plt.subplots(figsize=(15,7))\n",
    "\n",
    "x = np.linspace(0.3, 0.6, 1000)\n",
    "\n",
    "ctr_rate_prob = scs.norm(control_conversion_rate, standar_err_control).pdf(x)\n",
    "ax.plot(x, ctr_rate_prob, label='Control', color='blue')\n",
    "ax.axvline(x=control_conversion_rate, c='blue', linestyle='dashed', linewidth=2)\n",
    "\n",
    "\n",
    "\n",
    "exposed_rate_prob = scs.norm(exposed_conversion_rate, standar_err_exposed).pdf(x)\n",
    "ax.plot(x, exposed_rate_prob, label='Exposed', color='red')\n",
    "ax.axvline(x=exposed_conversion_rate, c='red', linestyle='dashed', linewidth=2)\n",
    "plt.legend()"
   ]
  },
  {
   "cell_type": "markdown",
   "metadata": {},
   "source": [
    "## Hence, the awareness of the exposed group is higher than that of the control group."
   ]
  },
  {
   "cell_type": "markdown",
   "metadata": {},
   "source": [
    "### Is the increase in awareness siginificant?"
   ]
  },
  {
   "cell_type": "code",
   "execution_count": 56,
   "metadata": {},
   "outputs": [],
   "source": [
    "\n",
    "def significance(control_rate, exposed_rate, control_total, exposed_total, alpha=0.05, tail=\"one\"):\n",
    "    diff = exposed_rate - control_rate\n",
    "    \n",
    "    A_variance =  control_rate * (1 - control_rate)\n",
    "    B_variance  = exposed_rate * (1 - exposed_rate)\n",
    "    \n",
    "    z_score = diff / np.sqrt((A_variance/control_total) + (B_variance/exposed_total))\n",
    "\n",
    "    p_value  = scs.norm().sf(z_score)\n",
    "    \n",
    "    if (tail == \"one\"):\n",
    "        compare = alpha\n",
    "    else:\n",
    "        comapre = alpha / 2\n",
    "        \n",
    "    return abs(p_value) < alpha, p_value, z_score\n",
    "        \n"
   ]
  },
  {
   "cell_type": "code",
   "execution_count": 57,
   "metadata": {},
   "outputs": [
    {
     "name": "stdout",
     "output_type": "stream",
     "text": [
      "z score is 0.65\n",
      "p value is 0.26\n",
      "Significance: False\n"
     ]
    }
   ],
   "source": [
    "alpha = 1 - 0.95\n",
    "\n",
    "is_signi, p_value, z_score = significance(control_conversion_rate, exposed_conversion_rate,\n",
    "                                            contorl_total, exposed_total, alpha=alpha)\n",
    "\n",
    "\n",
    "z_score = diff / np.sqrt((variance_contorl/contorl_total) + (variance_exposed/exposed_total))\n",
    "print (f\"z score is {z_score:0.2f}\" )\n",
    "\n",
    "p_value  = scs.norm().sf(z_score)\n",
    "print (f\"p value is {p_value:0.2f}\" )\n",
    "\n",
    "is_signi, p_value, z_score = significance(control_conversion_rate, exposed_conversion_rate,\n",
    "                                            contorl_total, exposed_total)\n",
    "\n",
    "print(f\"Significance: {is_signi}\")\n"
   ]
  },
  {
   "cell_type": "markdown",
   "metadata": {},
   "source": [
    "### Since our P_value > 0.05, our increase in awarness is not significant. Therefore, we reject our alternative hypothesis."
   ]
  }
 ],
 "metadata": {
  "interpreter": {
   "hash": "7a69935e43806fbeb0b0712a166c2482a507bfc0fa6c7e0b66b69281dda3bb13"
  },
  "kernelspec": {
   "display_name": "Python 3",
   "language": "python",
   "name": "python3"
  },
  "language_info": {
   "codemirror_mode": {
    "name": "ipython",
    "version": 3
   },
   "file_extension": ".py",
   "mimetype": "text/x-python",
   "name": "python",
   "nbconvert_exporter": "python",
   "pygments_lexer": "ipython3",
   "version": "3.6.5"
  },
  "latex_envs": {
   "LaTeX_envs_menu_present": true,
   "autoclose": false,
   "autocomplete": true,
   "bibliofile": "biblio.bib",
   "cite_by": "apalike",
   "current_citInitial": 1,
   "eqLabelWithNumbers": true,
   "eqNumInitial": 1,
   "hotkeys": {
    "equation": "Ctrl-E",
    "itemize": "Ctrl-I"
   },
   "labels_anchors": false,
   "latex_user_defs": false,
   "report_style_numbering": false,
   "user_envs_cfg": false
  }
 },
 "nbformat": 4,
 "nbformat_minor": 2
}
